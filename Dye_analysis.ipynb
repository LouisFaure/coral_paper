{
 "cells": [
  {
   "cell_type": "code",
   "execution_count": 1,
   "metadata": {},
   "outputs": [],
   "source": [
    "import glob\n",
    "import pandas as pd\n",
    "import matplotlib.pyplot as plt\n",
    "import matplotlib.image as mpimg\n",
    "import matplotlib.ticker as ticker\n",
    "import numpy as np\n",
    "\n",
    "from numba import njit, prange\n",
    "import math"
   ]
  },
  {
   "cell_type": "code",
   "execution_count": 2,
   "metadata": {},
   "outputs": [],
   "source": [
    "!tar xf dye_data.tar.gz"
   ]
  },
  {
   "cell_type": "code",
   "execution_count": 3,
   "metadata": {},
   "outputs": [],
   "source": [
    "m_pos=pd.read_csv(\"dye_data/Live_coral_1/mouths_positions_Echinopora_Big_chunk.csv\").loc[:,[\"X\",\"Y\"]]\n",
    "bbox=[146, 350, 686, 1110]\n",
    "\n",
    "m_pos=m_pos.iloc[(m_pos[\"X\"]>bbox[0]).values & (m_pos[\"Y\"]>bbox[1]).values & \n",
    "                 (m_pos[\"X\"]<(bbox[0]+bbox[2])).values & (m_pos[\"Y\"]<(bbox[1]+bbox[3])).values,:]\n",
    "m_pos[\"X\"]=m_pos[\"X\"]-bbox[0]\n",
    "m_pos[\"Y\"]=m_pos[\"Y\"]-bbox[1]\n",
    "\n",
    "tiffs=glob.glob(\"dye_data/Live_coral_1/Out/*.tiff\")\n",
    "tiffs.sort()\n",
    "\n",
    "mask= mpimg.imread(tiffs[0]) \n",
    "ii = np.argwhere(mask)\n",
    "\n",
    "coord1=m_pos.values\n",
    "coord1=coord1.astype(int)\n",
    "coord2=ii[:,[1,0]]\n",
    "#coord2=coord2.astype(\"int32\")"
   ]
  },
  {
   "cell_type": "code",
   "execution_count": 4,
   "metadata": {},
   "outputs": [],
   "source": [
    "@njit('void(int64[:,:], int64[:,:], int32[:,:])',parallel=True)\n",
    "def cdist_numba_par(coord1,coord2,out):\n",
    "    for i in prange(coord1.shape[0]):\n",
    "        for j in range(coord2.shape[0]):\n",
    "            out[i,j] = ((coord2[j,0] - coord1[i,0])**2+(coord2[j,1] - coord1[i,1])**2)\n",
    "            \n",
    "def overmouth_cpu(tiff):\n",
    "    \n",
    "    mask= mpimg.imread(tiff)\n",
    "    ii = np.argwhere(mask)\n",
    "    coord2=(ii[:,[1,0]])\n",
    "    \n",
    "    out_cpu= np.zeros((coord1.shape[0],coord2.shape[0]), dtype='int32')\n",
    "\n",
    "    cdist_numba_par(coord1, coord2, out_cpu); \\\n",
    "\n",
    "    return np.amin(out_cpu,axis=1)"
   ]
  },
  {
   "cell_type": "code",
   "execution_count": 5,
   "metadata": {},
   "outputs": [],
   "source": [
    "m_pos=pd.read_csv(\"dye_data/Live_coral_1/mouths_positions_Echinopora_Big_chunk.csv\").loc[:,[\"X\",\"Y\"]]\n",
    "bbox=[146, 350, 686, 1110]\n",
    "\n",
    "m_pos=m_pos.iloc[(m_pos[\"X\"]>bbox[0]).values & (m_pos[\"Y\"]>bbox[1]).values & \n",
    "                 (m_pos[\"X\"]<(bbox[0]+bbox[2])).values & (m_pos[\"Y\"]<(bbox[1]+bbox[3])).values,:]\n",
    "m_pos[\"X\"]=m_pos[\"X\"]-bbox[0]\n",
    "m_pos[\"Y\"]=m_pos[\"Y\"]-bbox[1]\n",
    "\n",
    "tiffs=glob.glob(\"dye_data/Live_coral_1/Out/*.tiff\")\n",
    "tiffs.sort()"
   ]
  },
  {
   "cell_type": "code",
   "execution_count": 6,
   "metadata": {},
   "outputs": [],
   "source": [
    "allmin_1=list(map(overmouth_cpu,tiffs))\n",
    "\n",
    "argsmouths=(pd.DataFrame(allmin_1)<3).apply(lambda x: np.argwhere(x.values),axis=1)\n",
    "n_1=[len(argsmouths[0][:,0])]\n",
    "m_1=list(map(len,argsmouths))\n",
    "temp=argsmouths[0][:,0]\n",
    "\n",
    "for i in range(1,len(tiffs)-1):\n",
    "    temp=np.unique(np.concatenate((temp,argsmouths[i][:,0])))\n",
    "    n_1=n_1+[len(temp)]"
   ]
  },
  {
   "cell_type": "code",
   "execution_count": 7,
   "metadata": {},
   "outputs": [],
   "source": [
    "m_pos=pd.read_csv(\"dye_data/Live_coral_2/mouths_positions_Echinopora_Big_chunk_2.csv\").loc[:,[\"X\",\"Y\"]] \n",
    "\n",
    "tiffs=glob.glob(\"dye_data/Live_coral_2/Out/*.tiff\")\n",
    "tiffs.sort()\n",
    "allmin_2=list(map(overmouth_cpu,tiffs))\n",
    "\n",
    "argsmouths=(pd.DataFrame(allmin_2)<3).apply(lambda x: np.argwhere(x.values),axis=1)\n",
    "m_2=list(map(len,argsmouths))\n",
    "n_2=[len(argsmouths[0][:,0])]\n",
    "temp=argsmouths[0][:,0]\n",
    "\n",
    "for i in range(1,len(tiffs)-1):\n",
    "    temp=np.unique(np.concatenate((temp,argsmouths[i][:,0])))\n",
    "    n_2=n_2+[len(temp)]"
   ]
  },
  {
   "cell_type": "code",
   "execution_count": 8,
   "metadata": {},
   "outputs": [],
   "source": [
    "m_pos=pd.read_csv(\"dye_data/live_coral_3/mouths_positions_Echinopora_Big_chunk_3.csv\").loc[:,[\"X\",\"Y\"]] \n",
    "\n",
    "tiffs=glob.glob(\"dye_data/live_coral_3/Out/*.tiff\")\n",
    "tiffs.sort()\n",
    "allmin_3=list(map(overmouth_cpu,tiffs))\n",
    "\n",
    "argsmouths=(pd.DataFrame(allmin_3)<3).apply(lambda x: np.argwhere(x.values),axis=1)\n",
    "m_3=list(map(len,argsmouths))\n",
    "n_3=[len(argsmouths[0][:,0])]\n",
    "temp=argsmouths[0][:,0]\n",
    "\n",
    "for i in range(1,len(tiffs)-1):\n",
    "    temp=np.unique(np.concatenate((temp,argsmouths[i][:,0])))\n",
    "    n_3=n_3+[len(temp)]"
   ]
  },
  {
   "cell_type": "code",
   "execution_count": 9,
   "metadata": {},
   "outputs": [
    {
     "data": {
      "text/plain": [
       "19"
      ]
     },
     "execution_count": 9,
     "metadata": {},
     "output_type": "execute_result"
    }
   ],
   "source": [
    "len(np.arange(0,len(m_2)*5+5,5))"
   ]
  },
  {
   "cell_type": "code",
   "execution_count": 10,
   "metadata": {},
   "outputs": [],
   "source": [
    "df=pd.DataFrame({\"time\":np.arange(0,len(m_1)*5,5),\n",
    "              \"n1\":m_1,\"n2\":m_2[:17],\"n3\":m_3})"
   ]
  },
  {
   "cell_type": "code",
   "execution_count": 11,
   "metadata": {},
   "outputs": [],
   "source": [
    "df.to_csv(\"dye_analysis.csv\")"
   ]
  },
  {
   "cell_type": "code",
   "execution_count": 12,
   "metadata": {},
   "outputs": [
    {
     "data": {
      "image/png": "[encoded data removed]",
      "text/plain": [
       "<Figure size 360x720 with 2 Axes>"
      ]
     },
     "metadata": {
      "needs_background": "light"
     },
     "output_type": "display_data"
    }
   ],
   "source": [
    "fig = plt.figure(figsize=(5,10))\n",
    "ax1 = fig.add_subplot(211)\n",
    "ax1.plot(range(len(m_1)),m_1)\n",
    "ax1.plot(range(len(m_2)),m_2)\n",
    "ax1.plot(range(len(m_3)),m_3)\n",
    "plt.xticks([])\n",
    "plt.ylabel(\"# of mouths in dye region\")\n",
    "ax2 = fig.add_subplot(212)\n",
    "ax2.plot(range(len(n_1)),n_1)\n",
    "ax2.plot(range(len(n_2)),n_2)\n",
    "ax2.plot(range(len(n_3)),n_3)\n",
    "plt.xlabel(\"time (sec)\")\n",
    "plt.ylabel(\"cumulative # of mouths in dye region\")\n",
    "ticks_x = ticker.FuncFormatter(lambda x, pos: '{0:g}'.format(x*5))\n",
    "ax2.xaxis.set_major_formatter(ticks_x)\n",
    "\n",
    "plt.savefig(\"macro_dynamics.svg\")"
   ]
  }
 ],
 "metadata": {
  "kernelspec": {
   "display_name": "bio-gpu-18",
   "language": "python",
   "name": "bio-gpu-18"
  },
  "language_info": {
   "codemirror_mode": {
    "name": "ipython",
    "version": 3
   },
   "file_extension": ".py",
   "mimetype": "text/x-python",
   "name": "python",
   "nbconvert_exporter": "python",
   "pygments_lexer": "ipython3",
   "version": "3.8.8"
  }
 },
 "nbformat": 4,
 "nbformat_minor": 4
}
